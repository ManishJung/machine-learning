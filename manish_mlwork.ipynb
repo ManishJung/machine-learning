{
 "cells": [
  {
   "cell_type": "code",
   "execution_count": 1,
   "id": "e97efcbd",
   "metadata": {},
   "outputs": [],
   "source": [
    "# Numpy Task"
   ]
  },
  {
   "cell_type": "code",
   "execution_count": 2,
   "id": "5fe2fe7b",
   "metadata": {},
   "outputs": [],
   "source": [
    "\n",
    "import numpy"
   ]
  },
  {
   "cell_type": "code",
   "execution_count": 3,
   "id": "86dbf245",
   "metadata": {},
   "outputs": [],
   "source": [
    "# Q1: Arrays"
   ]
  },
  {
   "cell_type": "code",
   "execution_count": 4,
   "id": "2e98358b",
   "metadata": {},
   "outputs": [
    {
     "name": "stdout",
     "output_type": "stream",
     "text": [
      "1 2 3 4 -8 -10\n",
      "[-10.  -8.   4.   3.   2.   1.]\n"
     ]
    }
   ],
   "source": [
    "def arrays(arr):\n",
    "    arr1 = numpy.array(arr, dtype = float)\n",
    "    arr2 = numpy.array(arr[::-1], dtype = float)\n",
    "    return arr2\n",
    "\n",
    "arr = input().strip().split(' ')\n",
    "result = arrays(arr)\n",
    "print(result)\n",
    "\n",
    "    "
   ]
  },
  {
   "cell_type": "code",
   "execution_count": 5,
   "id": "0720f5bf",
   "metadata": {},
   "outputs": [],
   "source": [
    "# Q2 : Shape and Reshape"
   ]
  },
  {
   "cell_type": "code",
   "execution_count": 6,
   "id": "c418ab5f",
   "metadata": {},
   "outputs": [
    {
     "name": "stdout",
     "output_type": "stream",
     "text": [
      "1 2 3 4 5 6 7 8 9\n",
      "[[1 2 3]\n",
      " [4 5 6]\n",
      " [7 8 9]]\n"
     ]
    }
   ],
   "source": [
    "def array1(arr):\n",
    "    arr1 = numpy.array(arr,dtype =int)\n",
    "    arr2= arr1.reshape(3,3)\n",
    "    return arr2\n",
    "\n",
    "arr = input().strip().split(' ')\n",
    "result = array1(arr)\n",
    "print(result)"
   ]
  },
  {
   "cell_type": "code",
   "execution_count": 7,
   "id": "e97aa2fb",
   "metadata": {},
   "outputs": [],
   "source": [
    "#Q3.Transpose and Flatten"
   ]
  },
  {
   "cell_type": "code",
   "execution_count": null,
   "id": "68a41edb",
   "metadata": {},
   "outputs": [],
   "source": [
    "def array1(arr):\n",
    "    arr1 = numpy.array(arr,dtype =int)\n",
    "    arr2= arr1.transpose() \n",
    "    return arr2\n",
    "\n",
    "arr = input().strip().split(' ')\n",
    "result = array1(arr)\n",
    "print(result)"
   ]
  },
  {
   "cell_type": "code",
   "execution_count": null,
   "id": "6d9ed43f",
   "metadata": {},
   "outputs": [],
   "source": [
    "#Q4.Concatenate"
   ]
  },
  {
   "cell_type": "code",
   "execution_count": null,
   "id": "cd234f3e",
   "metadata": {},
   "outputs": [],
   "source": [
    "X, Y, Z = map(int, input().split())\n",
    "array = numpy.array([input().split() for i in range(X+Y)], int)\n",
    "\n",
    "print(array)"
   ]
  },
  {
   "cell_type": "code",
   "execution_count": null,
   "id": "c1ccb681",
   "metadata": {},
   "outputs": [],
   "source": []
  },
  {
   "cell_type": "code",
   "execution_count": null,
   "id": "f08f40f7",
   "metadata": {},
   "outputs": [],
   "source": []
  },
  {
   "cell_type": "code",
   "execution_count": null,
   "id": "c9f115eb",
   "metadata": {},
   "outputs": [],
   "source": []
  },
  {
   "cell_type": "code",
   "execution_count": null,
   "id": "6cc1700f",
   "metadata": {},
   "outputs": [],
   "source": [
    "#Q5. Zeros and Ones"
   ]
  },
  {
   "cell_type": "code",
   "execution_count": null,
   "id": "4e974c08",
   "metadata": {},
   "outputs": [],
   "source": [
    "def arrays(arr):\n",
    "    arr1 = numpy.array(arr, dtype = int)\n",
    "    arr2 = numpy.zeros(arr1, dtype = int)\n",
    "    arr3 = numpy.ones(arr1, dtype = int)\n",
    "    return arr2, arr3\n",
    "\n",
    "arr = input().strip().split(' ')\n",
    "arr2, arr3 = arrays(arr)\n",
    "\n",
    "print(arr2)\n",
    "print(arr3)"
   ]
  },
  {
   "cell_type": "code",
   "execution_count": null,
   "id": "aec509bd",
   "metadata": {},
   "outputs": [],
   "source": []
  },
  {
   "cell_type": "code",
   "execution_count": null,
   "id": "72e54b16",
   "metadata": {},
   "outputs": [],
   "source": [
    "#Q6. Eye and Identity"
   ]
  },
  {
   "cell_type": "code",
   "execution_count": null,
   "id": "bff56442",
   "metadata": {},
   "outputs": [],
   "source": [
    "numpy.set_printoptions(sign=' ')\n",
    "\n",
    "N, M = map(int, input().split())\n",
    "eye = numpy.eye(N, M)\n",
    "print(eye)\n",
    "\n"
   ]
  },
  {
   "cell_type": "code",
   "execution_count": null,
   "id": "96ed73d0",
   "metadata": {},
   "outputs": [],
   "source": []
  },
  {
   "cell_type": "code",
   "execution_count": null,
   "id": "985aceee",
   "metadata": {},
   "outputs": [],
   "source": [
    "#Q7. Array Mathematics"
   ]
  },
  {
   "cell_type": "code",
   "execution_count": null,
   "id": "2b81aeea",
   "metadata": {},
   "outputs": [],
   "source": [
    "def arrays(arr, arr1, arr2):\n",
    "    arr = numpy.array(arr, dtype = int)\n",
    "    arr1 = numpy.array([arr1], dtype = int)\n",
    "    arr2 = numpy.array([arr2], dtype = int)\n",
    "\n",
    "    add = numpy.add(arr1,arr2)\n",
    "    sub = numpy.subtract(arr1, arr2)\n",
    "    mul = numpy.multiply(arr1, arr2)\n",
    "    div = numpy.floor_divide(arr1, arr2)\n",
    "    mod = numpy.mod(arr1, arr2)\n",
    "    power = numpy.power(arr1, arr2)\n",
    "    return add,sub,mul,div,mod,power\n",
    "\n",
    "arr = input().strip().split(' ')\n",
    "\n",
    "arr1 = input().strip().split(' ')\n",
    "arr2 = input().strip().split(' ')\n",
    "add,sub,mul,div,mod,power = arrays(arr, arr1, arr2)\n",
    "print(add)\n",
    "print(sub)\n",
    "print(mul)\n",
    "print(div)\n",
    "print(mod)\n",
    "print(power)"
   ]
  },
  {
   "cell_type": "code",
   "execution_count": null,
   "id": "2244d8bc",
   "metadata": {},
   "outputs": [],
   "source": []
  },
  {
   "cell_type": "code",
   "execution_count": null,
   "id": "4fd0101b",
   "metadata": {},
   "outputs": [],
   "source": [
    "#Q8 Floor Ceil and Rint"
   ]
  },
  {
   "cell_type": "code",
   "execution_count": null,
   "id": "f4ccc712",
   "metadata": {},
   "outputs": [],
   "source": [
    "\n",
    "numpy.set_printoptions(sign=' ')\n",
    "def arrays(arr):\n",
    "    arr1 = numpy.array(arr, dtype = float)\n",
    "\n",
    "    floor = numpy.floor(arr1)\n",
    "    ceil = numpy.ceil(arr1)\n",
    "    rint = numpy.rint(arr1)\n",
    "\n",
    "    return floor, ceil, rint    \n",
    "arr = input().strip().split(' ')\n",
    "floor, ceil, rint = arrays(arr)\n",
    "print(floor)\n",
    "print(ceil)\n",
    "print(rint)"
   ]
  },
  {
   "cell_type": "code",
   "execution_count": null,
   "id": "d494071a",
   "metadata": {},
   "outputs": [],
   "source": []
  },
  {
   "cell_type": "code",
   "execution_count": null,
   "id": "368875a0",
   "metadata": {},
   "outputs": [],
   "source": [
    "#Q9 . Sum and Product"
   ]
  },
  {
   "cell_type": "code",
   "execution_count": null,
   "id": "1b907c9d",
   "metadata": {},
   "outputs": [],
   "source": [
    "N, M = map(int, input().split())\n",
    "\n",
    "array = numpy.array([input().split() for i in range(N)], int)\n",
    "\n",
    "print(numpy.prod(numpy.sum(array, axis = 0), axis = None))\n"
   ]
  },
  {
   "cell_type": "code",
   "execution_count": null,
   "id": "3cc94597",
   "metadata": {},
   "outputs": [],
   "source": []
  },
  {
   "cell_type": "code",
   "execution_count": null,
   "id": "b075683f",
   "metadata": {},
   "outputs": [],
   "source": [
    "# Q10. Min Max"
   ]
  },
  {
   "cell_type": "code",
   "execution_count": null,
   "id": "505af9c9",
   "metadata": {},
   "outputs": [],
   "source": [
    "N, M = map(int, input().split())\n",
    "\n",
    "A = numpy.array([input().split() for i in range(N)],dtype = int)\n",
    "print(numpy.max(numpy.min(A, axis=1), axis=0))"
   ]
  },
  {
   "cell_type": "code",
   "execution_count": null,
   "id": "f3c8152d",
   "metadata": {},
   "outputs": [],
   "source": []
  }
 ],
 "metadata": {
  "kernelspec": {
   "display_name": "Python 3 (ipykernel)",
   "language": "python",
   "name": "python3"
  },
  "language_info": {
   "codemirror_mode": {
    "name": "ipython",
    "version": 3
   },
   "file_extension": ".py",
   "mimetype": "text/x-python",
   "name": "python",
   "nbconvert_exporter": "python",
   "pygments_lexer": "ipython3",
   "version": "3.9.5"
  }
 },
 "nbformat": 4,
 "nbformat_minor": 5
}
